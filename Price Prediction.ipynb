{
 "cells": [
  {
   "cell_type": "markdown",
   "metadata": {},
   "source": [
    "## Importing / Installing packages"
   ]
  },
  {
   "cell_type": "code",
   "execution_count": 2,
   "metadata": {},
   "outputs": [],
   "source": [
    "import math #mathematical computation\n",
    "import pandas as pd #dataframe\n",
    "import numpy as np #mathematical computations\n",
    "import matplotlib.pyplot as plt #visualization\n",
    "import matplotlib\n",
    "import joblib #saving the model\n",
    "import seaborn as sns #visualization\n",
    "import json #exporting columns\n",
    "import pickle #saving the model\n",
    "from sklearn.preprocessing import LabelEncoder, OneHotEncoder, OrdinalEncoder, MinMaxScaler\n",
    "from sklearn.linear_model import LinearRegression #Linear Regression\n",
    "from sklearn.linear_model import Lasso #Lasso Regression\n",
    "from sklearn.tree import DecisionTreeRegressor #Decision Tree Regression\n",
    "from sklearn.ensemble import RandomForestRegressor #Random Forest Regression\n",
    "from xgboost import XGBRegressor # XGBoost Regression\n",
    "from sklearn.model_selection import train_test_split #Splitting the dataset into training and testing\n",
    "from sklearn.model_selection import ShuffleSplit #Random shuffling\n",
    "from sklearn.model_selection import cross_val_score #Score cross validation\n",
    "from sklearn.model_selection import cross_validate #Score cross validation\n",
    "from sklearn.model_selection import GridSearchCV #Hyper parameter tuning\n",
    "from statistics import stdev\n",
    "from warnings import simplefilter #Filtering warnings"
   ]
  },
  {
   "cell_type": "code",
   "execution_count": 3,
   "metadata": {},
   "outputs": [],
   "source": [
    "dataset = 'Dataset/Initial Dataset (corrected)/corrected_data_bikroy_com.csv'"
   ]
  },
  {
   "cell_type": "code",
   "execution_count": 4,
   "metadata": {},
   "outputs": [],
   "source": [
    "df1 = pd.read_csv(dataset)"
   ]
  },
  {
   "cell_type": "code",
   "execution_count": 5,
   "metadata": {},
   "outputs": [
    {
     "data": {
      "text/html": [
       "<div>\n",
       "<style scoped>\n",
       "    .dataframe tbody tr th:only-of-type {\n",
       "        vertical-align: middle;\n",
       "    }\n",
       "\n",
       "    .dataframe tbody tr th {\n",
       "        vertical-align: top;\n",
       "    }\n",
       "\n",
       "    .dataframe thead th {\n",
       "        text-align: right;\n",
       "    }\n",
       "</style>\n",
       "<table border=\"1\" class=\"dataframe\">\n",
       "  <thead>\n",
       "    <tr style=\"text-align: right;\">\n",
       "      <th></th>\n",
       "      <th>car_name</th>\n",
       "      <th>brand</th>\n",
       "      <th>car_model</th>\n",
       "      <th>model_year</th>\n",
       "      <th>transmission</th>\n",
       "      <th>body_type</th>\n",
       "      <th>fuel_type</th>\n",
       "      <th>engine_capacity</th>\n",
       "      <th>kilometers_run</th>\n",
       "      <th>price</th>\n",
       "    </tr>\n",
       "  </thead>\n",
       "  <tbody>\n",
       "    <tr>\n",
       "      <th>0</th>\n",
       "      <td>Toyota Fielder 2011</td>\n",
       "      <td>Toyota</td>\n",
       "      <td>Fielder</td>\n",
       "      <td>2016</td>\n",
       "      <td>Automatic</td>\n",
       "      <td>Estate</td>\n",
       "      <td>CNG</td>\n",
       "      <td>1500</td>\n",
       "      <td>45852</td>\n",
       "      <td>1200000</td>\n",
       "    </tr>\n",
       "    <tr>\n",
       "      <th>1</th>\n",
       "      <td>Toyota Noah 2005</td>\n",
       "      <td>Toyota</td>\n",
       "      <td>Noah</td>\n",
       "      <td>2010</td>\n",
       "      <td>Automatic</td>\n",
       "      <td>Hatchback</td>\n",
       "      <td>CNG</td>\n",
       "      <td>1998</td>\n",
       "      <td>219630</td>\n",
       "      <td>1200000</td>\n",
       "    </tr>\n",
       "    <tr>\n",
       "      <th>2</th>\n",
       "      <td>Toyota LiteAce 2001</td>\n",
       "      <td>Toyota</td>\n",
       "      <td>LiteAce</td>\n",
       "      <td>2001</td>\n",
       "      <td>Manual</td>\n",
       "      <td>NaN</td>\n",
       "      <td>CNG</td>\n",
       "      <td>1800</td>\n",
       "      <td>102000</td>\n",
       "      <td>165000</td>\n",
       "    </tr>\n",
       "    <tr>\n",
       "      <th>3</th>\n",
       "      <td>Maruti Suzuki Vitara Brezza 1994</td>\n",
       "      <td>Maruti Suzuki</td>\n",
       "      <td>Vitara Brezza</td>\n",
       "      <td>1994</td>\n",
       "      <td>Manual</td>\n",
       "      <td>NaN</td>\n",
       "      <td>CNG</td>\n",
       "      <td>1600</td>\n",
       "      <td>113000</td>\n",
       "      <td>230000</td>\n",
       "    </tr>\n",
       "    <tr>\n",
       "      <th>4</th>\n",
       "      <td>Toyota Starlet good 1992</td>\n",
       "      <td>Toyota</td>\n",
       "      <td>Starlet</td>\n",
       "      <td>1992</td>\n",
       "      <td>Automatic</td>\n",
       "      <td>Saloon</td>\n",
       "      <td>CNG</td>\n",
       "      <td>1300</td>\n",
       "      <td>15000</td>\n",
       "      <td>330000</td>\n",
       "    </tr>\n",
       "  </tbody>\n",
       "</table>\n",
       "</div>"
      ],
      "text/plain": [
       "                           car_name          brand      car_model  model_year  \\\n",
       "0               Toyota Fielder 2011         Toyota        Fielder        2016   \n",
       "1                  Toyota Noah 2005         Toyota           Noah        2010   \n",
       "2               Toyota LiteAce 2001         Toyota        LiteAce        2001   \n",
       "3  Maruti Suzuki Vitara Brezza 1994  Maruti Suzuki  Vitara Brezza        1994   \n",
       "4          Toyota Starlet good 1992         Toyota        Starlet        1992   \n",
       "\n",
       "  transmission  body_type fuel_type  engine_capacity  kilometers_run    price  \n",
       "0    Automatic     Estate       CNG             1500           45852  1200000  \n",
       "1    Automatic  Hatchback       CNG             1998          219630  1200000  \n",
       "2       Manual        NaN       CNG             1800          102000   165000  \n",
       "3       Manual        NaN       CNG             1600          113000   230000  \n",
       "4    Automatic     Saloon       CNG             1300           15000   330000  "
      ]
     },
     "execution_count": 5,
     "metadata": {},
     "output_type": "execute_result"
    }
   ],
   "source": [
    "df1.head()"
   ]
  },
  {
   "cell_type": "code",
   "execution_count": 6,
   "metadata": {},
   "outputs": [
    {
     "data": {
      "text/plain": [
       "Index(['car_name', 'brand', 'car_model', 'model_year', 'transmission',\n",
       "       'body_type', 'fuel_type', 'engine_capacity', 'kilometers_run', 'price'],\n",
       "      dtype='object')"
      ]
     },
     "execution_count": 6,
     "metadata": {},
     "output_type": "execute_result"
    }
   ],
   "source": [
    "df1.columns"
   ]
  },
  {
   "cell_type": "code",
   "execution_count": 7,
   "metadata": {},
   "outputs": [
    {
     "data": {
      "text/plain": [
       "car_name           1108\n",
       "brand                26\n",
       "car_model           123\n",
       "model_year           35\n",
       "transmission          2\n",
       "body_type             7\n",
       "fuel_type            24\n",
       "engine_capacity      51\n",
       "kilometers_run      640\n",
       "price               519\n",
       "dtype: int64"
      ]
     },
     "execution_count": 7,
     "metadata": {},
     "output_type": "execute_result"
    }
   ],
   "source": [
    "df1.nunique()"
   ]
  },
  {
   "cell_type": "markdown",
   "metadata": {},
   "source": [
    "## Exploratory Data Analysis"
   ]
  },
  {
   "cell_type": "code",
   "execution_count": 8,
   "metadata": {},
   "outputs": [
    {
     "data": {
      "text/html": [
       "<div>\n",
       "<style scoped>\n",
       "    .dataframe tbody tr th:only-of-type {\n",
       "        vertical-align: middle;\n",
       "    }\n",
       "\n",
       "    .dataframe tbody tr th {\n",
       "        vertical-align: top;\n",
       "    }\n",
       "\n",
       "    .dataframe thead th {\n",
       "        text-align: right;\n",
       "    }\n",
       "</style>\n",
       "<table border=\"1\" class=\"dataframe\">\n",
       "  <thead>\n",
       "    <tr style=\"text-align: right;\">\n",
       "      <th></th>\n",
       "      <th>brand</th>\n",
       "      <th>car_model</th>\n",
       "      <th>model_year</th>\n",
       "      <th>transmission</th>\n",
       "      <th>body_type</th>\n",
       "      <th>fuel_type</th>\n",
       "      <th>engine_capacity</th>\n",
       "      <th>kilometers_run</th>\n",
       "      <th>price</th>\n",
       "    </tr>\n",
       "  </thead>\n",
       "  <tbody>\n",
       "    <tr>\n",
       "      <th>0</th>\n",
       "      <td>Toyota</td>\n",
       "      <td>Fielder</td>\n",
       "      <td>2016</td>\n",
       "      <td>Automatic</td>\n",
       "      <td>Estate</td>\n",
       "      <td>CNG</td>\n",
       "      <td>1500</td>\n",
       "      <td>45852</td>\n",
       "      <td>1200000</td>\n",
       "    </tr>\n",
       "    <tr>\n",
       "      <th>1</th>\n",
       "      <td>Toyota</td>\n",
       "      <td>Noah</td>\n",
       "      <td>2010</td>\n",
       "      <td>Automatic</td>\n",
       "      <td>Hatchback</td>\n",
       "      <td>CNG</td>\n",
       "      <td>1998</td>\n",
       "      <td>219630</td>\n",
       "      <td>1200000</td>\n",
       "    </tr>\n",
       "    <tr>\n",
       "      <th>2</th>\n",
       "      <td>Toyota</td>\n",
       "      <td>LiteAce</td>\n",
       "      <td>2001</td>\n",
       "      <td>Manual</td>\n",
       "      <td>NaN</td>\n",
       "      <td>CNG</td>\n",
       "      <td>1800</td>\n",
       "      <td>102000</td>\n",
       "      <td>165000</td>\n",
       "    </tr>\n",
       "    <tr>\n",
       "      <th>3</th>\n",
       "      <td>Maruti Suzuki</td>\n",
       "      <td>Vitara Brezza</td>\n",
       "      <td>1994</td>\n",
       "      <td>Manual</td>\n",
       "      <td>NaN</td>\n",
       "      <td>CNG</td>\n",
       "      <td>1600</td>\n",
       "      <td>113000</td>\n",
       "      <td>230000</td>\n",
       "    </tr>\n",
       "    <tr>\n",
       "      <th>4</th>\n",
       "      <td>Toyota</td>\n",
       "      <td>Starlet</td>\n",
       "      <td>1992</td>\n",
       "      <td>Automatic</td>\n",
       "      <td>Saloon</td>\n",
       "      <td>CNG</td>\n",
       "      <td>1300</td>\n",
       "      <td>15000</td>\n",
       "      <td>330000</td>\n",
       "    </tr>\n",
       "  </tbody>\n",
       "</table>\n",
       "</div>"
      ],
      "text/plain": [
       "           brand      car_model  model_year transmission  body_type fuel_type  \\\n",
       "0         Toyota        Fielder        2016    Automatic     Estate       CNG   \n",
       "1         Toyota           Noah        2010    Automatic  Hatchback       CNG   \n",
       "2         Toyota        LiteAce        2001       Manual        NaN       CNG   \n",
       "3  Maruti Suzuki  Vitara Brezza        1994       Manual        NaN       CNG   \n",
       "4         Toyota        Starlet        1992    Automatic     Saloon       CNG   \n",
       "\n",
       "   engine_capacity  kilometers_run    price  \n",
       "0             1500           45852  1200000  \n",
       "1             1998          219630  1200000  \n",
       "2             1800          102000   165000  \n",
       "3             1600          113000   230000  \n",
       "4             1300           15000   330000  "
      ]
     },
     "execution_count": 8,
     "metadata": {},
     "output_type": "execute_result"
    }
   ],
   "source": [
    "df2 = df1.drop(['car_name'],axis=1)\n",
    "df2.head()"
   ]
  },
  {
   "cell_type": "code",
   "execution_count": 9,
   "metadata": {},
   "outputs": [
    {
     "data": {
      "text/plain": [
       "brand              False\n",
       "car_model          False\n",
       "model_year         False\n",
       "transmission       False\n",
       "body_type           True\n",
       "fuel_type          False\n",
       "engine_capacity    False\n",
       "kilometers_run     False\n",
       "price              False\n",
       "dtype: bool"
      ]
     },
     "execution_count": 9,
     "metadata": {},
     "output_type": "execute_result"
    }
   ],
   "source": [
    "df2.isnull().any()"
   ]
  },
  {
   "cell_type": "code",
   "execution_count": 10,
   "metadata": {},
   "outputs": [
    {
     "data": {
      "text/plain": [
       "brand               0\n",
       "car_model           0\n",
       "model_year          0\n",
       "transmission        0\n",
       "body_type          18\n",
       "fuel_type           0\n",
       "engine_capacity     0\n",
       "kilometers_run      0\n",
       "price               0\n",
       "dtype: int64"
      ]
     },
     "execution_count": 10,
     "metadata": {},
     "output_type": "execute_result"
    }
   ],
   "source": [
    "df2.isnull().sum()"
   ]
  },
  {
   "cell_type": "code",
   "execution_count": 11,
   "metadata": {},
   "outputs": [
    {
     "data": {
      "text/plain": [
       "brand              0\n",
       "car_model          0\n",
       "model_year         0\n",
       "transmission       0\n",
       "body_type          0\n",
       "fuel_type          0\n",
       "engine_capacity    0\n",
       "kilometers_run     0\n",
       "price              0\n",
       "dtype: int64"
      ]
     },
     "execution_count": 11,
     "metadata": {},
     "output_type": "execute_result"
    }
   ],
   "source": [
    "# Dropping 18 Nan Value Containing Rows\n",
    "df2 = df2.dropna(how='any',axis=0) \n",
    "df2.isnull().sum()"
   ]
  },
  {
   "cell_type": "code",
   "execution_count": 12,
   "metadata": {},
   "outputs": [
    {
     "data": {
      "text/html": [
       "<div>\n",
       "<style scoped>\n",
       "    .dataframe tbody tr th:only-of-type {\n",
       "        vertical-align: middle;\n",
       "    }\n",
       "\n",
       "    .dataframe tbody tr th {\n",
       "        vertical-align: top;\n",
       "    }\n",
       "\n",
       "    .dataframe thead th {\n",
       "        text-align: right;\n",
       "    }\n",
       "</style>\n",
       "<table border=\"1\" class=\"dataframe\">\n",
       "  <thead>\n",
       "    <tr style=\"text-align: right;\">\n",
       "      <th></th>\n",
       "      <th>brand</th>\n",
       "      <th>car_model</th>\n",
       "      <th>model_year</th>\n",
       "      <th>transmission</th>\n",
       "      <th>body_type</th>\n",
       "      <th>fuel_type</th>\n",
       "      <th>engine_capacity</th>\n",
       "      <th>kilometers_run</th>\n",
       "      <th>price</th>\n",
       "    </tr>\n",
       "  </thead>\n",
       "  <tbody>\n",
       "    <tr>\n",
       "      <th>0</th>\n",
       "      <td>Toyota</td>\n",
       "      <td>Fielder</td>\n",
       "      <td>2016</td>\n",
       "      <td>Automatic</td>\n",
       "      <td>Estate</td>\n",
       "      <td>CNG</td>\n",
       "      <td>1500</td>\n",
       "      <td>45852</td>\n",
       "      <td>1200000</td>\n",
       "    </tr>\n",
       "    <tr>\n",
       "      <th>1</th>\n",
       "      <td>Toyota</td>\n",
       "      <td>Noah</td>\n",
       "      <td>2010</td>\n",
       "      <td>Automatic</td>\n",
       "      <td>Hatchback</td>\n",
       "      <td>CNG</td>\n",
       "      <td>1998</td>\n",
       "      <td>219630</td>\n",
       "      <td>1200000</td>\n",
       "    </tr>\n",
       "    <tr>\n",
       "      <th>4</th>\n",
       "      <td>Toyota</td>\n",
       "      <td>Starlet</td>\n",
       "      <td>1992</td>\n",
       "      <td>Automatic</td>\n",
       "      <td>Saloon</td>\n",
       "      <td>CNG</td>\n",
       "      <td>1300</td>\n",
       "      <td>15000</td>\n",
       "      <td>330000</td>\n",
       "    </tr>\n",
       "    <tr>\n",
       "      <th>5</th>\n",
       "      <td>Toyota</td>\n",
       "      <td>Carina</td>\n",
       "      <td>1998</td>\n",
       "      <td>Automatic</td>\n",
       "      <td>Saloon</td>\n",
       "      <td>CNG</td>\n",
       "      <td>1500</td>\n",
       "      <td>60720</td>\n",
       "      <td>200000</td>\n",
       "    </tr>\n",
       "    <tr>\n",
       "      <th>6</th>\n",
       "      <td>Toyota</td>\n",
       "      <td>Corolla</td>\n",
       "      <td>2009</td>\n",
       "      <td>Automatic</td>\n",
       "      <td>Saloon</td>\n",
       "      <td>CNG</td>\n",
       "      <td>1500</td>\n",
       "      <td>70000</td>\n",
       "      <td>950000</td>\n",
       "    </tr>\n",
       "    <tr>\n",
       "      <th>7</th>\n",
       "      <td>Mitsubishi</td>\n",
       "      <td>Pajero</td>\n",
       "      <td>2000</td>\n",
       "      <td>Manual</td>\n",
       "      <td>SUV / 4x4</td>\n",
       "      <td>CNG</td>\n",
       "      <td>2350</td>\n",
       "      <td>750000</td>\n",
       "      <td>960000</td>\n",
       "    </tr>\n",
       "    <tr>\n",
       "      <th>8</th>\n",
       "      <td>Toyota</td>\n",
       "      <td>Axio</td>\n",
       "      <td>2016</td>\n",
       "      <td>Automatic</td>\n",
       "      <td>Saloon</td>\n",
       "      <td>CNG, Hybrid</td>\n",
       "      <td>1500</td>\n",
       "      <td>96000</td>\n",
       "      <td>1830000</td>\n",
       "    </tr>\n",
       "    <tr>\n",
       "      <th>9</th>\n",
       "      <td>Toyota</td>\n",
       "      <td>Other Model</td>\n",
       "      <td>1996</td>\n",
       "      <td>Automatic</td>\n",
       "      <td>Estate</td>\n",
       "      <td>CNG, Octane</td>\n",
       "      <td>1331</td>\n",
       "      <td>120000</td>\n",
       "      <td>350000</td>\n",
       "    </tr>\n",
       "    <tr>\n",
       "      <th>10</th>\n",
       "      <td>Toyota</td>\n",
       "      <td>Fielder</td>\n",
       "      <td>2001</td>\n",
       "      <td>Automatic</td>\n",
       "      <td>Estate</td>\n",
       "      <td>CNG, Octane</td>\n",
       "      <td>1500</td>\n",
       "      <td>75000</td>\n",
       "      <td>799000</td>\n",
       "    </tr>\n",
       "    <tr>\n",
       "      <th>11</th>\n",
       "      <td>Toyota</td>\n",
       "      <td>Fielder</td>\n",
       "      <td>2001</td>\n",
       "      <td>Automatic</td>\n",
       "      <td>Estate</td>\n",
       "      <td>CNG, Octane</td>\n",
       "      <td>1500</td>\n",
       "      <td>79250</td>\n",
       "      <td>785000</td>\n",
       "    </tr>\n",
       "    <tr>\n",
       "      <th>12</th>\n",
       "      <td>Toyota</td>\n",
       "      <td>Succeed</td>\n",
       "      <td>2002</td>\n",
       "      <td>Automatic</td>\n",
       "      <td>Estate</td>\n",
       "      <td>CNG, Octane</td>\n",
       "      <td>1500</td>\n",
       "      <td>75000</td>\n",
       "      <td>599000</td>\n",
       "    </tr>\n",
       "    <tr>\n",
       "      <th>13</th>\n",
       "      <td>Toyota</td>\n",
       "      <td>Probox</td>\n",
       "      <td>2003</td>\n",
       "      <td>Automatic</td>\n",
       "      <td>Estate</td>\n",
       "      <td>CNG, Octane</td>\n",
       "      <td>1300</td>\n",
       "      <td>84000</td>\n",
       "      <td>570000</td>\n",
       "    </tr>\n",
       "    <tr>\n",
       "      <th>14</th>\n",
       "      <td>Toyota</td>\n",
       "      <td>Probox</td>\n",
       "      <td>2003</td>\n",
       "      <td>Automatic</td>\n",
       "      <td>Estate</td>\n",
       "      <td>CNG, Octane</td>\n",
       "      <td>1500</td>\n",
       "      <td>68425</td>\n",
       "      <td>675000</td>\n",
       "    </tr>\n",
       "    <tr>\n",
       "      <th>15</th>\n",
       "      <td>Toyota</td>\n",
       "      <td>Probox</td>\n",
       "      <td>2003</td>\n",
       "      <td>Automatic</td>\n",
       "      <td>Estate</td>\n",
       "      <td>CNG, Octane</td>\n",
       "      <td>1500</td>\n",
       "      <td>85000</td>\n",
       "      <td>625000</td>\n",
       "    </tr>\n",
       "    <tr>\n",
       "      <th>16</th>\n",
       "      <td>Toyota</td>\n",
       "      <td>Succeed</td>\n",
       "      <td>2003</td>\n",
       "      <td>Automatic</td>\n",
       "      <td>Estate</td>\n",
       "      <td>CNG, Octane</td>\n",
       "      <td>1500</td>\n",
       "      <td>74500</td>\n",
       "      <td>599000</td>\n",
       "    </tr>\n",
       "    <tr>\n",
       "      <th>17</th>\n",
       "      <td>Toyota</td>\n",
       "      <td>Fielder</td>\n",
       "      <td>2004</td>\n",
       "      <td>Automatic</td>\n",
       "      <td>Estate</td>\n",
       "      <td>CNG, Octane</td>\n",
       "      <td>1500</td>\n",
       "      <td>75050</td>\n",
       "      <td>955000</td>\n",
       "    </tr>\n",
       "    <tr>\n",
       "      <th>18</th>\n",
       "      <td>Toyota</td>\n",
       "      <td>Fielder</td>\n",
       "      <td>2004</td>\n",
       "      <td>Automatic</td>\n",
       "      <td>Estate</td>\n",
       "      <td>CNG, Octane</td>\n",
       "      <td>1500</td>\n",
       "      <td>98112</td>\n",
       "      <td>935000</td>\n",
       "    </tr>\n",
       "    <tr>\n",
       "      <th>19</th>\n",
       "      <td>Toyota</td>\n",
       "      <td>Fielder</td>\n",
       "      <td>2004</td>\n",
       "      <td>Automatic</td>\n",
       "      <td>Estate</td>\n",
       "      <td>CNG, Octane</td>\n",
       "      <td>1500</td>\n",
       "      <td>68465</td>\n",
       "      <td>985000</td>\n",
       "    </tr>\n",
       "    <tr>\n",
       "      <th>20</th>\n",
       "      <td>Toyota</td>\n",
       "      <td>Fielder</td>\n",
       "      <td>2004</td>\n",
       "      <td>Automatic</td>\n",
       "      <td>Estate</td>\n",
       "      <td>CNG, Octane</td>\n",
       "      <td>1500</td>\n",
       "      <td>65000</td>\n",
       "      <td>1050000</td>\n",
       "    </tr>\n",
       "    <tr>\n",
       "      <th>21</th>\n",
       "      <td>Toyota</td>\n",
       "      <td>Fielder</td>\n",
       "      <td>2004</td>\n",
       "      <td>Automatic</td>\n",
       "      <td>Estate</td>\n",
       "      <td>CNG, Octane</td>\n",
       "      <td>1500</td>\n",
       "      <td>65000</td>\n",
       "      <td>1050000</td>\n",
       "    </tr>\n",
       "  </tbody>\n",
       "</table>\n",
       "</div>"
      ],
      "text/plain": [
       "         brand    car_model  model_year transmission  body_type    fuel_type  \\\n",
       "0       Toyota      Fielder        2016    Automatic     Estate          CNG   \n",
       "1       Toyota         Noah        2010    Automatic  Hatchback          CNG   \n",
       "4       Toyota      Starlet        1992    Automatic     Saloon          CNG   \n",
       "5       Toyota       Carina        1998    Automatic     Saloon          CNG   \n",
       "6       Toyota      Corolla        2009    Automatic     Saloon          CNG   \n",
       "7   Mitsubishi       Pajero        2000       Manual  SUV / 4x4          CNG   \n",
       "8       Toyota         Axio        2016    Automatic     Saloon  CNG, Hybrid   \n",
       "9       Toyota  Other Model        1996    Automatic     Estate  CNG, Octane   \n",
       "10      Toyota      Fielder        2001    Automatic     Estate  CNG, Octane   \n",
       "11      Toyota      Fielder        2001    Automatic     Estate  CNG, Octane   \n",
       "12      Toyota      Succeed        2002    Automatic     Estate  CNG, Octane   \n",
       "13      Toyota       Probox        2003    Automatic     Estate  CNG, Octane   \n",
       "14      Toyota       Probox        2003    Automatic     Estate  CNG, Octane   \n",
       "15      Toyota       Probox        2003    Automatic     Estate  CNG, Octane   \n",
       "16      Toyota      Succeed        2003    Automatic     Estate  CNG, Octane   \n",
       "17      Toyota      Fielder        2004    Automatic     Estate  CNG, Octane   \n",
       "18      Toyota      Fielder        2004    Automatic     Estate  CNG, Octane   \n",
       "19      Toyota      Fielder        2004    Automatic     Estate  CNG, Octane   \n",
       "20      Toyota      Fielder        2004    Automatic     Estate  CNG, Octane   \n",
       "21      Toyota      Fielder        2004    Automatic     Estate  CNG, Octane   \n",
       "\n",
       "    engine_capacity  kilometers_run    price  \n",
       "0              1500           45852  1200000  \n",
       "1              1998          219630  1200000  \n",
       "4              1300           15000   330000  \n",
       "5              1500           60720   200000  \n",
       "6              1500           70000   950000  \n",
       "7              2350          750000   960000  \n",
       "8              1500           96000  1830000  \n",
       "9              1331          120000   350000  \n",
       "10             1500           75000   799000  \n",
       "11             1500           79250   785000  \n",
       "12             1500           75000   599000  \n",
       "13             1300           84000   570000  \n",
       "14             1500           68425   675000  \n",
       "15             1500           85000   625000  \n",
       "16             1500           74500   599000  \n",
       "17             1500           75050   955000  \n",
       "18             1500           98112   935000  \n",
       "19             1500           68465   985000  \n",
       "20             1500           65000  1050000  \n",
       "21             1500           65000  1050000  "
      ]
     },
     "execution_count": 12,
     "metadata": {},
     "output_type": "execute_result"
    }
   ],
   "source": [
    "df2.shape\n",
    "df2.head(20)"
   ]
  },
  {
   "cell_type": "markdown",
   "metadata": {},
   "source": [
    "### Checking for data consistency"
   ]
  },
  {
   "cell_type": "code",
   "execution_count": 13,
   "metadata": {},
   "outputs": [
    {
     "data": {
      "text/plain": [
       "brand               24\n",
       "car_model          120\n",
       "model_year          35\n",
       "transmission         2\n",
       "body_type            7\n",
       "fuel_type           24\n",
       "engine_capacity     50\n",
       "kilometers_run     632\n",
       "price              513\n",
       "dtype: int64"
      ]
     },
     "execution_count": 13,
     "metadata": {},
     "output_type": "execute_result"
    }
   ],
   "source": [
    "df2.nunique()"
   ]
  },
  {
   "cell_type": "code",
   "execution_count": 14,
   "metadata": {},
   "outputs": [
    {
     "data": {
      "text/plain": [
       "array(['Fielder', 'Noah', 'Starlet', 'Carina', 'Corolla', 'Pajero',\n",
       "       'Axio', 'Other Model', 'Succeed', 'Probox', 'Spacio', 'Wish',\n",
       "       'Raum', 'Starlet Soleil', 'CR-V', 'Alto', 'ist', 'Rush', 'LiteAce',\n",
       "       'TownAce', 'Hiace', 'Sienta', 'l300', 'MPV', 'Dyna', 'Avanza',\n",
       "       'Urvan', 'Sprinter', 'Mark II', 'Corsa', 'Corona', 'Vista',\n",
       "       'Allion', 'Premio', 'Crown', 'Lancer', 'X Assista', 'Fit', 'Sunny',\n",
       "       'WagonR', 'Pathfinder', 'Prado', 'V6', 'Cami', 'Carryboy',\n",
       "       'Kluger', 'RAV4', 'CX-7', 'Hilux', 'Estima', 'l200', 'H1',\n",
       "       'Coaster', '5 Series', 'Indigo Ecs', 'Terrano', 'X-Trail',\n",
       "       'Land Cruiser', 'Eco Sport', 'Kyron', 'Harrier', 'Prius', 'Aqua',\n",
       "       'Esquire', 'Grace', 'Axela', 'CR-Z', 'C-HR', 'Alphard', 'Camry',\n",
       "       'Vezel', 'NX', 'Outlandar', 'S660', 'RX-8', 'Note', 'Vitz',\n",
       "       'Alto 800', 'Passo', 'RunX', 'Tiida', 'Swift', 'Spark', 'Ractis',\n",
       "       'HR-V', 'MR2', 'City', '320i', 'Civic', 'Bluebird', 'GLX',\n",
       "       'Sonata', 'Accent', 'Auris', 'Insight', 'Fiesta', 'Yaris',\n",
       "       'Attrage', 'Satria', 'C-Class', 'Dualis', 'Juke', 'Outlander',\n",
       "       'Tucson', 'RVR', 'GLA-Class', 'H2', 'RX', 'Santa Fe', 'H-RV',\n",
       "       'Ikon', 'Murano', 'Sportage', 'APV', 'Discovery', 'Cefiro',\n",
       "       'E 250', 'XJ', 'Q5', 'CityRover'], dtype=object)"
      ]
     },
     "execution_count": 14,
     "metadata": {},
     "output_type": "execute_result"
    }
   ],
   "source": [
    "df2.car_model.unique()"
   ]
  },
  {
   "cell_type": "code",
   "execution_count": 15,
   "metadata": {},
   "outputs": [
    {
     "data": {
      "text/plain": [
       "array(['Automatic', 'Manual'], dtype=object)"
      ]
     },
     "execution_count": 15,
     "metadata": {},
     "output_type": "execute_result"
    }
   ],
   "source": [
    "df2.transmission.unique()"
   ]
  },
  {
   "cell_type": "code",
   "execution_count": 16,
   "metadata": {},
   "outputs": [
    {
     "data": {
      "text/plain": [
       "array(['Estate', 'Hatchback', 'Saloon', 'SUV / 4x4', 'MPV', 'Convertible',\n",
       "       'Coupé/Sports'], dtype=object)"
      ]
     },
     "execution_count": 16,
     "metadata": {},
     "output_type": "execute_result"
    }
   ],
   "source": [
    "df2.body_type.unique()"
   ]
  },
  {
   "cell_type": "code",
   "execution_count": 17,
   "metadata": {},
   "outputs": [
    {
     "data": {
      "text/plain": [
       "array(['CNG', 'CNG, Hybrid', 'CNG, Octane', 'Diesel', 'Diesel, Petrol',\n",
       "       'Hybrid', 'Hybrid, Octane', 'Hybrid, Octane, LPG', 'LPG', 'Octane',\n",
       "       'Octane, LPG', 'Octane, Other fuel type', 'Petrol', 'Petrol, CNG',\n",
       "       'Petrol, CNG, Octane', 'Petrol, CNG, Octane, LPG',\n",
       "       'Petrol, Hybrid', 'Petrol, Hybrid, Octane',\n",
       "       'Petrol, Hybrid, Octane, LPG', 'Petrol, LPG', 'Petrol, Octane',\n",
       "       'Petrol, Octane, LPG', 'Petrol, Octane, Other fuel type',\n",
       "       'Petrol, Other fuel type'], dtype=object)"
      ]
     },
     "execution_count": 17,
     "metadata": {},
     "output_type": "execute_result"
    }
   ],
   "source": [
    "df2.fuel_type.unique()"
   ]
  },
  {
   "cell_type": "code",
   "execution_count": 18,
   "metadata": {},
   "outputs": [
    {
     "data": {
      "text/plain": [
       "array([1500, 1998, 1300, 2350, 1331, 1800, 1000, 2000,  150, 2500, 1781,\n",
       "       1996, 1990, 2400, 1600, 1490, 1900, 1830, 1586, 1580, 1984, 1061,\n",
       "       1496, 3300, 3500, 2260, 4200, 2200, 3000, 2700, 2389, 2779, 3700,\n",
       "       4500, 1797, 2015,  660, 2367,  800, 1329, 1100, 1590, 1200, 1320,\n",
       "       1400, 1499, 3400, 2972, 2362, 2490])"
      ]
     },
     "execution_count": 18,
     "metadata": {},
     "output_type": "execute_result"
    }
   ],
   "source": [
    "df2.engine_capacity.unique()"
   ]
  },
  {
   "cell_type": "code",
   "execution_count": null,
   "metadata": {},
   "outputs": [],
   "source": []
  }
 ],
 "metadata": {
  "kernelspec": {
   "display_name": "Python 3",
   "language": "python",
   "name": "python3"
  },
  "language_info": {
   "codemirror_mode": {
    "name": "ipython",
    "version": 3
   },
   "file_extension": ".py",
   "mimetype": "text/x-python",
   "name": "python",
   "nbconvert_exporter": "python",
   "pygments_lexer": "ipython3",
   "version": "3.8.5"
  }
 },
 "nbformat": 4,
 "nbformat_minor": 4
}
